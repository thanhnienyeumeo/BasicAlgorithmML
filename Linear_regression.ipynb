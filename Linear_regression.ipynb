{
 "cells": [
  {
   "cell_type": "code",
   "execution_count": null,
   "metadata": {},
   "outputs": [],
   "source": [
    "import numpy as np\n",
    "import matplotlib.pyplot as plt"
   ]
  },
  {
   "cell_type": "code",
   "execution_count": null,
   "metadata": {},
   "outputs": [],
   "source": [
    "x = np.array([[1,2,3,4,5,6,7,8,9,10]]).T\n",
    "y = np.array([[3,7,8,9,11,16,20,21,37,50]]).T\n",
    "print(x.shape[0])\n",
    "print(x.shape[1])\n",
    "plt.plot(x,y, \"ro\")\n",
    "plt.show()"
   ]
  },
  {
   "cell_type": "code",
   "execution_count": null,
   "metadata": {},
   "outputs": [],
   "source": [
    "bias = np.ones((x.shape[0], 1), dtype = int)\n",
    "X = np.concatenate((bias, x), axis = 1)\n",
    "X"
   ]
  },
  {
   "cell_type": "code",
   "execution_count": null,
   "metadata": {},
   "outputs": [],
   "source": [
    "#w = A^T * B\n",
    "#A = X^T * X\n",
    "A = np.dot(X.T, X)\n",
    "B = np.dot(X.T, y)\n",
    "w = np.dot(np.linalg.pinv(A), B)\n",
    "print(w)"
   ]
  },
  {
   "cell_type": "code",
   "execution_count": null,
   "metadata": {},
   "outputs": [],
   "source": [
    "#check w again\n",
    "plt.plot(x,y,\"ro\")\n",
    "a = w[0][0]\n",
    "b = w[1][0]\n",
    "x0 = np.linspace(0, 12 ,10)\n",
    "y0 = a + b * x\n",
    "plt.plot(x0, y0)\n",
    "plt.axis([0,12,-20,100])\n",
    "plt.show()"
   ]
  }
 ],
 "metadata": {
  "kernelspec": {
   "display_name": "torch",
   "language": "python",
   "name": "python3"
  },
  "language_info": {
   "name": "python",
   "version": "3.9.0"
  },
  "orig_nbformat": 4
 },
 "nbformat": 4,
 "nbformat_minor": 2
}
